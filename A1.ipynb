{
 "cells": [
  {
   "cell_type": "markdown",
   "id": "f7c3e293-c24a-4db6-8887-e8d5669b377c",
   "metadata": {},
   "source": [
    "# Assignment 1\n",
    "\n",
    "## Brief\n",
    "This Jupyter notebook contains a small program that reads in a simple text file and searches for some words. It counts the number of times each specified word appears in the file, and reports the counts to the terminal. This program has been designed to handle certain edge cases in a specific way. Each text file read, is split into a list of words, where text is separated at any non-alphanumeric character. This means a word such as \"they're\" is split into it's consituent parts, \"they\" and \"re\". Therefore, if a word being searched for contains any non-alphanumeric character, the word is split at this point. Consequently, the split words will be searched for in place of the original word. To continue the prior example, if the word \"they're\" is searched for, this program will search for the words \"they\" and \"re\", returning word counts for each. This same logic applies for searching words containing any non-alphanumeric character.\n",
    "\n",
    "This notebook is split into two main sections, Functions and Testing. Within Functions, some helper functions are documented and defined before the main program <code>main_code_summary()</code>. The Testing section runs through a range of examples to test and demonstrate how <code>main_code_summary</code> works. This covers correct and incorrect usage, as well as edge cases. \n",
    "\n",
    "## Functions\n",
    "\n",
    "#### Helper functions\n",
    "\n",
    "To improve readability, I have defined some helper functions. These reduce repetition within the code and keep the notebook neat. The purpose of each function is explained before it is defined, and I have categorised these functions as follows:\n",
    "\n",
    "* Type checking functions\n",
    "* Search terms cleaning functions\n",
    "* Table formatting functions\n",
    "* Word counting functions\n",
    "\n"
   ]
  },
  {
   "cell_type": "code",
   "execution_count": 1,
   "id": "45b9d1f3-7f10-4221-ae3b-7c5fe6eb5702",
   "metadata": {},
   "outputs": [],
   "source": [
    "import re"
   ]
  },
  {
   "cell_type": "markdown",
   "id": "fff33e8f-417e-4cc9-a8fc-c9ebf517ce86",
   "metadata": {},
   "source": [
    "#### Type checking functions\n",
    "\n",
    "    1. type_check(data, expected_type)\n",
    "    \n",
    "This function has two parameters <code>data</code> and <code>expected_type</code>. It checks whether the input data matches the specified <code>expected_type</code>, raising an error if not. The first parameter, <code>data</code>, is the input whose type we are checking. The second parameter, <code>expected_type</code>, specifies the expected data type (such as int, list, str). \n",
    "The function uses <code>isinstance()</code> to check if data is of the expected type. If <code>data</code> is not of the expected type then the function raises a TypeError. The error message explains that <code>data</code> is not of the necessary type, and uses the <code>.__name__</code> attribute to get the name of the type as a string, for instance printing <code>'str'</code> rather than <code>\\<class 'str'\\></code>. A TypeError is also rasied if <code>data</code> is an empty string or list. If <code>data</code> is of the correct type, the function returns nothing. \n",
    "\n",
    "    2. list_of_str_check(words)\n",
    "\n",
    "This function has one parameter, <code>words</code>. It checks that <code>words</code> is a list of strings. If the argument is not a list, or if each element in the list is not a string, then a TypeError is raised that explains the requirements to the user. If the argument given passes these checks then nothing is returned. \n",
    "\n",
    "    3. input_checks(input1, input2)\n",
    "\n",
    "This function has two parameters, <code>input1</code> and <code>input2</code>. The function first checks <code>input1</code> is a string, by calling <code>type_check()</code>. It then checks that <code>input2</code> is either a string, or list of strings, using <code>isinstance()</code> and <code>list_of_str_check()</code>. If both arguments are of the correct type, nothing is returned. If not, a TypeError is raised, with an explanation that the arguments must be of a specific type. This function is called within <code>word_count_summary()</code>, to ensure the inputs are of the correct type, building robustness into the program. "
   ]
  },
  {
   "cell_type": "code",
   "execution_count": 2,
   "id": "35a8baa9-b478-4778-adcc-3ea928db8440",
   "metadata": {},
   "outputs": [],
   "source": [
    "def type_check(data, expected_type):\n",
    "\n",
    "    # Check data matches the expected type\n",
    "    if not isinstance(data, expected_type):\n",
    "        raise TypeError(f\"'{data}' must be of type {expected_type.__name__}.\")\n",
    "\n",
    "    # If a string or list, check data is not empty\n",
    "    if expected_type in [str, list] and not data:\n",
    "        raise ValueError(f\"'{data}' cannot be empty.\")"
   ]
  },
  {
   "cell_type": "code",
   "execution_count": 3,
   "id": "da1958b1-4524-418a-8b82-0a1634baec44",
   "metadata": {},
   "outputs": [],
   "source": [
    "def list_of_str_check(words):\n",
    "    \n",
    "    type_check(words, list)\n",
    "\n",
    "    # Check all elements in the list are non-empty strings\n",
    "    if not all(isinstance(element, str) and element != \"\" for element in words):\n",
    "        raise TypeError(f\"Each element in '{words}' must be a non-empty string.\")"
   ]
  },
  {
   "cell_type": "code",
   "execution_count": 4,
   "id": "83169d2d-0bb0-45f3-ae1f-12ab29b40e83",
   "metadata": {},
   "outputs": [],
   "source": [
    "def input_checks(input1, input2):\n",
    "\n",
    "    type_check(input1, str)\n",
    "\n",
    "    # Set up type checking for input2\n",
    "    if isinstance(input2, str):\n",
    "        pass\n",
    "    elif isinstance(input2, list):\n",
    "        list_of_str_check(input2)\n",
    "    else:\n",
    "        raise TypeError(f\"'{input2}' must be a string, or list of strings.\")"
   ]
  },
  {
   "cell_type": "markdown",
   "id": "02aa60a4-e7e4-47ea-b203-ebed14a33e11",
   "metadata": {},
   "source": [
    "#### Search_terms cleaning functions\n",
    "\n",
    "    1. split_by_puncutation(word)\n",
    "\n",
    "This function has one parameter, <code>word</code>, which must be a string. It splits the string by any non-alphanumeric character, effectively splitting at any punctuation or empty spaces. The words found are stored as a list, and duplicates are removed whilst also preserving order. This is done by converting the list to a dictionary, which removes duplicates, and then back into a list using <code>list(dict.fromkeys(split))</code>. The function then returns a list of unique words if multiple unique words were found, or a single string if only one unique word was found. This function is used to check the terms being searched for in <code>word_count_summary()</code> are handled in a consistent way throughout the program. \n",
    "\n",
    "\n",
    "    2. punctuation_check_str(words)\n",
    "\n",
    "This function takes one parameter, <code>words</code>. If <code>words</code> is a string, <code>split_by_punctuation()</code> is called on <code>words</code> and the function returns the result. If <code>words</code> is a list, <code>split_by_punctuation()</code> is called on each element in the list and the result is saved into a new list, <code>store</code>. The list methods <code>.extend</code> or <code>.append</code> are used depending on whether the result of <code>split_by_punctuation()</code> is a list or string. The new list, <code>store</code>, is returned. If <code>words</code> is neither a list nor a string a TypeError is raised telling the user that the argument given to <code>punctuation_check()</code> must be either a string or list of strings. \n"
   ]
  },
  {
   "cell_type": "code",
   "execution_count": 5,
   "id": "8e1c2412-eaee-4ecb-8569-154a788764ce",
   "metadata": {},
   "outputs": [],
   "source": [
    "def split_by_punctuation(word):\n",
    "\n",
    "    type_check(word, str)\n",
    "    \n",
    "    # Split 'word' by any non-alphanumeric characters\n",
    "    split = re.findall(\"\\\\w+\", word)\n",
    "\n",
    "    # Remove any duplicate words, if there are any\n",
    "    # Use dict.fromkeys to preserve order\n",
    "    drop_duplicates = list(dict.fromkeys(split))\n",
    "\n",
    "    # return a list, if multiple unique words are found, otherwise return the single word\n",
    "    if len(drop_duplicates) > 1:\n",
    "        return drop_duplicates\n",
    "    else:\n",
    "        return drop_duplicates[0]"
   ]
  },
  {
   "cell_type": "code",
   "execution_count": 6,
   "id": "1c8a1040-2369-4ea8-975d-1cdb486269d0",
   "metadata": {},
   "outputs": [],
   "source": [
    "def punctuation_check(words):\n",
    "\n",
    "    # Perform punctuation check if words is a string\n",
    "    if isinstance(words, str):  \n",
    "        return split_by_punctuation(words)\n",
    "\n",
    "    # Split each element in the list at any non-alphanumeric character\n",
    "    elif isinstance(words, list):  \n",
    "        store = []\n",
    "        for word in words:\n",
    "            split_result = split_by_punctuation(word)\n",
    "\n",
    "            # Use extend to ensure each element of the list is added separately\n",
    "            if isinstance(split_result, list):  \n",
    "                store.extend(split_result)  \n",
    "                \n",
    "            # If the word was not split, use append to add the whole split_result\n",
    "            else:  \n",
    "                store.append(split_result)\n",
    "                \n",
    "        return store  \n",
    "\n",
    "    else:\n",
    "        raise TypeError(\"'{}' must be a string or a list of strings\".format(words))"
   ]
  },
  {
   "cell_type": "markdown",
   "id": "c35ded43-e52e-4aba-bace-30a911eb986a",
   "metadata": {},
   "source": [
    "#### Table formatting\n",
    "    \n",
    "    1. calc_col_widths(data)\n",
    "\n",
    "This function takes one parameter,<code>data</code>. It checks the argument given is a dictionary, then performs additional type checks for the key-value pairs, which must be strings and integers respectively. The dictionary supplied is used to first calculate the total of all the values, from each key-value pair, storing this as the variable <code>total</code>. The function then loops over each key-value pair and computes the longest key and value from each item of the dictionary, storing the results as variables <code>max_key_length</code> and <code>max_value_length</code>. These are both integers and refer to the number of character spaces needed for each column of a formatted table, where the table will be formed from the keys and values from the dictionary, <code>data</code>. This function returns the variables <code>total</code>,  <code>max_key_length</code>, and <code>max_value_length</code>.\n",
    "\n",
    "    2. create_dashed_row(key_col_width, value_col_width)\n",
    "\n",
    "This function creates a dashed row for a formatted table. It takes two integer parameters, <code>key_col_width</code> and <code>value_col_width</code>. These parameters specify the widths of two columns in the table. The function uses f-strings to create a dashed line, where dashes are formed of '-' characters, and column separators are '|' characters. The length of the dashed row is the specified widths given as arguments with two additional characters to allow for the separators. The function returns the formatted dashed row as a string.\n",
    "\n",
    "    3. create_table_rows(dict_input, key_col_width, value_col_width)\n",
    "\n",
    "This function takes three parameters. The first, <code>dict_input</code> is a dictionary that will be used to generate rows of a table, where the key items correspond to the left hand column cells and the value items correspond to the right hand column cells of a table. String items from the dictionary are left aligned and integers are right aligned using f-string formatting. The length of the columns are specified using the parameters <code>key_col_width</code> and <code>value_col_width</code>. Columns are separated using a '|' character. Each row created is appended to a list, which is then joined together using the <code>.join</code> string method. This creates a sinlge string, with a new line character separating each row. The function returns this single string.\n",
    "\n",
    "    4. create_formatted_table(data)\n",
    "\n",
    "This function creates a formatted table, using <code>calc_col_widths()</code>, <code>create_dashed_row()</code>, and <code>create_table_rows()</code>. It has one parameter, <code>data</code>, which must be a dictionary. It generates column widths using <code>calc_col_widths()</code>, which also validates that <code>data</code> is a dictionary. A variable, <code>table</code> is initialised as an empty list, then two dictionaries <code>header_row</code> and <code>total_row</code> are generated. The function then creates a formatted table using the outputs from <code>create_dashed_row()</code> and <code>create_table_rows()</code>. It joins each row into a single string, again using the <code>.join</code> string method. Each row is separated by by a new line character, setting new rows for each new set of key-value pairs. This string is returned. \n"
   ]
  },
  {
   "cell_type": "code",
   "execution_count": 7,
   "id": "66bdc468-57b9-4da8-b39f-0ddfd16ed1bd",
   "metadata": {},
   "outputs": [],
   "source": [
    "def calc_col_widths(data):\n",
    "\n",
    "    type_check(data, dict)\n",
    "    for key, value in data.items():\n",
    "        type_check(key, str)\n",
    "        type_check(value, int)\n",
    " \n",
    "    total = sum(data.values())\n",
    "\n",
    "    # Set initial column widths based on header and footer values\n",
    "    max_key_length = len(\"TOTAL\")\n",
    "    max_value_length = len(\"COUNT\")\n",
    "\n",
    "    # Update column widths using the longest key and value in data\n",
    "    for key, value in data.items():\n",
    "        max_key_length = max(max_key_length, len(str(key)))\n",
    "        max_value_length = max(max_value_length, len(str(value)))\n",
    "\n",
    "    return max_key_length, max(max_value_length, len(str(total))), total"
   ]
  },
  {
   "cell_type": "code",
   "execution_count": 8,
   "id": "a0b76b81-2aab-46c1-9df4-a1668644b364",
   "metadata": {},
   "outputs": [],
   "source": [
    "def create_dashed_row(key_col_width, value_col_width):\n",
    "\n",
    "    type_check(key_col_width, int)\n",
    "    type_check(value_col_width, int)\n",
    "\n",
    "    # Create a dashed row string, adding two to the specified column widths to account for column separators '|'\n",
    "    dash_row = f\"|{'-' * (key_col_width + 2)}|{'-' * (value_col_width + 2)}|\"\n",
    "    return dash_row"
   ]
  },
  {
   "cell_type": "code",
   "execution_count": 9,
   "id": "d47e6403-53bd-4bd3-9943-0008ee95882d",
   "metadata": {},
   "outputs": [],
   "source": [
    "def create_table_rows(dict_input, key_col_width, value_col_width):\n",
    "\n",
    "    type_check(dict_input, dict)\n",
    "    type_check(key_col_width, int)\n",
    "    type_check(value_col_width, int)\n",
    "    \n",
    "    rows = []\n",
    "\n",
    "    # Iterate over the dictionary items, to create formatted rows\n",
    "    for key, value in dict_input.items():\n",
    "        \n",
    "        # If both the keys and values of the dictionary are strings, left align both\n",
    "        if (isinstance(key, str) and isinstance(value, str)):\n",
    "                rows.append(f\"| {key:<{key_col_width}} | {value:<{value_col_width}} |\")\n",
    "\n",
    "        # If the key is a string and corresponding value is an integer, left align strings and right align integers    \n",
    "        elif (isinstance(key, str) and (isinstance(value, int))):\n",
    "                rows.append(f\"| {key:<{key_col_width}} | {value:>{value_col_width}} |\")\n",
    "            \n",
    "        else:\n",
    "            raise TypeError(\"Dictionary contains incorrect data types. Keys must be of type string. Values must be of either type string or integer.\")\n",
    "\n",
    "    # Join the list into a single string, separating each list element by a new line\n",
    "    return \"\\n\".join(rows)"
   ]
  },
  {
   "cell_type": "code",
   "execution_count": 10,
   "id": "55cf3971-50c2-480a-8df4-266f4733c5e7",
   "metadata": {},
   "outputs": [],
   "source": [
    "def create_formatted_table(data):\n",
    "\n",
    "    # Calculate column widths and total count\n",
    "    key_col_width, value_col_width, total = calc_col_widths(data)\n",
    "   \n",
    "    table = []\n",
    "\n",
    "    # Create dictionaries for the header and total row\n",
    "    header_row = {\"WORD\": \"COUNT\"}\n",
    "    total_row = {\"TOTAL\": total}\n",
    "\n",
    "    # Format the header row, with dashed rows above and below\n",
    "    table.append(create_dashed_row(key_col_width, value_col_width))\n",
    "    table.append(create_table_rows(header_row, key_col_width, value_col_width))\n",
    "    table.append(create_dashed_row(key_col_width, value_col_width))\n",
    "\n",
    "    # Format the rows of the table\n",
    "    table.append(create_table_rows(data, key_col_width, value_col_width))\n",
    "\n",
    "    # Format the total row, with a dashed row above and below\n",
    "    table.append(create_dashed_row(key_col_width, value_col_width))\n",
    "    table.append(create_table_rows(total_row,key_col_width, value_col_width))\n",
    "    table.append(create_dashed_row(key_col_width, value_col_width))\n",
    "\n",
    "    # Join each element in 'table' together as a string, using a new line to separate each item\n",
    "    return \"\\n\".join(table)"
   ]
  },
  {
   "cell_type": "markdown",
   "id": "2f748d57-ee5a-4642-a3fe-07d5c9605848",
   "metadata": {},
   "source": [
    "#### Word count function\n",
    "\n",
    "    1. count_words(search_terms, words)\n",
    "    \n",
    "This function takes two parameters, <code>search_terms</code>, and <code>words</code>. The first argument must be a string or a list of strings, and the second must be a list of strings. The function computes the number of times each word within <code>search_terms</code> appears in the list <code>words</code>. The behaviour is slightly different depending on the type of <code>search_terms</code>. If <code>search_terms</code> is a string, the function checks how many times the string appears in <code>words</code> and returns the count within a sentence using f-strings. If <code>search_terms</code> is a list of strings, this function generates a dictionary where each element in <code>search_terms</code> becomes a key and its value is set to 0. The function then counts how many time each key appears in <code>words</code> and uses <code>create_formatted_table()</code> to return a table with the counts of each word in <code>search_terms</code> given. If <code>search_terms</code> is neither a string nor a list of strings a TypeError is raised."
   ]
  },
  {
   "cell_type": "code",
   "execution_count": 11,
   "id": "17601444-1675-4b71-8d82-d5717d49fc6d",
   "metadata": {},
   "outputs": [],
   "source": [
    "def count_words(search_terms, words):\n",
    "\n",
    "    list_of_str_check(words)\n",
    "\n",
    "    # If search_terms is a string, count the number of times it appears in 'words'\n",
    "    if isinstance(search_terms, str):\n",
    "        count = 0\n",
    "        for word in words:\n",
    "            if search_terms == word:\n",
    "                count += 1        \n",
    "                \n",
    "        # Return the word count in a sentence\n",
    "        return f\"The word '{search_terms}' appears {str(count)} times.\"\n",
    "\n",
    "    # If search_terms is a list of strings, count the number of time each element in the list appears in 'words'\n",
    "    elif isinstance(search_terms, list):\n",
    "        \n",
    "        # Set each term to 0 in a made from 'search_terms', to initialise a count\n",
    "        aggregates = {term: 0 for term in search_terms}\n",
    "        for word in words:\n",
    "            if word in aggregates:\n",
    "                aggregates[word] += 1\n",
    "\n",
    "        # Return the formatted table\n",
    "        return create_formatted_table(aggregates)\n",
    "\n",
    "    else:\n",
    "        raise TypeError(\"Search terms must be either of type string or list.\")"
   ]
  },
  {
   "cell_type": "markdown",
   "id": "6b61ae68-48d5-48e3-92eb-6e1c6b13b665",
   "metadata": {},
   "source": [
    "### Main Function\n",
    "\n",
    "    1. word_count_summary(file_path, search_terms)\n",
    "\n",
    "This function reads a text file and counts the occurrences of each specified search term. It takes two arguments. The first, <code>file_path</code> is a string of the file path that we want to read into the program. The second <code>search_terms</code> is either a string or a list of strings. These are the words that we want to count within the text file. \n",
    "\n",
    "The function uses <code>input_checks()</code> to check that the file_path is a string and <code>search_terms</code> is either a string of a list of strings. It then calls <code>puncutation_check()</code> to clean <code>search_terms</code>, removing any non-alphanumeric characters, such as punctuation. \n",
    "\n",
    "This function then opens and reads the file specified by <code>file_path</code>, storing this as a string. It then finds all words within this string using <code>re.findall(\"\\\\w+\", text)</code>, which extracts alphanumeric words and saves the result as a list, <code>words</code>.\n",
    "\n",
    "The function then counts the number of times each of the terms in <code>seach_terms</code> appears in the list <code>words</code> using <code>count_words()</code> and handling the cases when <code>search_terms</code> is a string differently to when <code>search_terms</code> is a list of strings. \n",
    "\n",
    "If <code>search_terms</code> is a single string this function returns the word count for the specified search_term within a sentence. If <code>search_terms</code> is a list of strings, then the function returns a string which represents a formatted table containing the counts of each search term. \n",
    "\n",
    "Calling <code>print(word_count_summary())</code> allows these returned strings to be seen by the user."
   ]
  },
  {
   "cell_type": "code",
   "execution_count": 12,
   "id": "1a33957a-66c9-4ced-8559-8408f75e4f9a",
   "metadata": {},
   "outputs": [],
   "source": [
    "def word_count_summary(file_path, search_terms):\n",
    "\n",
    "    # Check data types for both agruments\n",
    "    input_checks(file_path, search_terms)\n",
    "\n",
    "    # Remove any non-alphanumeric characters from search_terms, if needed\n",
    "    search_terms = punctuation_check(search_terms)\n",
    "    \n",
    "    # Open the file and read its contents as a string\n",
    "    with open(file_path, \"r\", encoding = \"utf-8\") as file:\n",
    "        text = file.read()\n",
    "    \n",
    "    # Find all words, and store as a list\n",
    "    words = re.findall(\"\\\\w+\", text) \n",
    "\n",
    "    # Count occurrences of search_terms within words\n",
    "    result = count_words(search_terms, words)\n",
    "\n",
    "    return result"
   ]
  },
  {
   "cell_type": "markdown",
   "id": "6dfd1886-1e91-46a7-ad17-4fc3d2fd3102",
   "metadata": {},
   "source": [
    "## Testing\n",
    "\n",
    "This section tests how the function performs in a range of scenarios.\n",
    "\n",
    "For correct usage, it is assumed that the <code>file_path</code> given is a string and points to an existing text file. For this assignment, it is assumed the text files being read are saved one directory up from the current working directory, hence the relative file paths used in testing begin with <code>../</code>. For note, this file path can be changed if needed and the relevant directory containing the text files can be specified.  It is also assumed that <code>search_terms</code> is either a string or list of strings. The tests outlined below are replicated for both acceptable type of search_terms.\n",
    "\n",
    "This function produces correct word counts when each argument is of a valid type. The performance of <code>word_count_summary()</code> is tested on various string inputs, to assess its design. These include:\n",
    "* All lower case characters\n",
    "* All upper case characters\n",
    "* A combination of upper and lower case characters\n",
    "* Case insensitivity tested (e.g. \"The\", \"the\")\n",
    "* A string containing numeric characters\n",
    "* A string containing punctuation, (e.g. apostrophe)\n",
    "* A string containing a space\n",
    "* Single character words\n",
    "* Repeated words\n",
    "* Multiple spaces between words\n",
    "* Special characters within words (e.g. hyphenated words)\n",
    "* A string with a new line character (e.g. \"good\\nmorning\")\n",
    "\n",
    "This function raises a TypeError in the following scenarios. This is not explicitly tested as it would cause the notebook to stop running, after clicking the fast forward button. Examples of incorrect usage would include:\n",
    "\n",
    " * A file path that is not a string\n",
    " * A file path that does not exist\n",
    " * A search_terms value that is neither a string, nor a list of strings\n",
    " * A search_terms value that contains non-string element(s)\n",
    " * A search_terms value that is an empty list, or empty string"
   ]
  },
  {
   "cell_type": "code",
   "execution_count": 13,
   "id": "80929327-3af4-4c25-aa71-33fa64500c8a",
   "metadata": {},
   "outputs": [
    {
     "name": "stdout",
     "output_type": "stream",
     "text": [
      "The word 'times' appears 51 times.\n",
      "|--------|-------|\n",
      "| WORD   | COUNT |\n",
      "|--------|-------|\n",
      "| lost   |    29 |\n",
      "| the    |  4060 |\n",
      "| hidden |     0 |\n",
      "|--------|-------|\n",
      "| TOTAL  |  4089 |\n",
      "|--------|-------|\n"
     ]
    }
   ],
   "source": [
    "# All lower case characters\n",
    "print(word_count_summary(\"../a-tale-of-two-cities.txt\", \"times\"))\n",
    "print(word_count_summary(\"../pride-and-prejudice.txt\", [\"lost\", \"the\", \"hidden\"]))"
   ]
  },
  {
   "cell_type": "code",
   "execution_count": 14,
   "id": "81737f57-7ee5-4234-89a7-92ee7e7a808d",
   "metadata": {},
   "outputs": [
    {
     "name": "stdout",
     "output_type": "stream",
     "text": [
      "The word 'OK' appears 0 times.\n",
      "|-------|-------|\n",
      "| WORD  | COUNT |\n",
      "|-------|-------|\n",
      "| COLD  |     0 |\n",
      "| HOT   |     0 |\n",
      "|-------|-------|\n",
      "| TOTAL |     0 |\n",
      "|-------|-------|\n"
     ]
    }
   ],
   "source": [
    "# All upper case characters\n",
    "print(word_count_summary(\"../pride-and-prejudice.txt\", \"OK\"))\n",
    "print(word_count_summary(\"../a-tale-of-two-cities.txt\", [\"COLD\", \"HOT\"]))"
   ]
  },
  {
   "cell_type": "code",
   "execution_count": 15,
   "id": "a14b7634-8f55-4d48-b2e5-3109d7359b2f",
   "metadata": {},
   "outputs": [
    {
     "name": "stdout",
     "output_type": "stream",
     "text": [
      "The word 'Elizabeth' appears 634 times.\n",
      "|-----------|-------|\n",
      "| WORD      | COUNT |\n",
      "|-----------|-------|\n",
      "| Jane      |   292 |\n",
      "| Elizabeth |   634 |\n",
      "| Mary      |    39 |\n",
      "| Kitty     |    71 |\n",
      "| Lydia     |   170 |\n",
      "|-----------|-------|\n",
      "| TOTAL     |  1206 |\n",
      "|-----------|-------|\n"
     ]
    }
   ],
   "source": [
    "# A combination of upper and lower case character\n",
    "print(word_count_summary(\"../pride-and-prejudice.txt\", \"Elizabeth\"))\n",
    "print(word_count_summary(\"../pride-and-prejudice.txt\", [\"Jane\", \"Elizabeth\", \"Mary\", \"Kitty\", \"Lydia\"]))"
   ]
  },
  {
   "cell_type": "code",
   "execution_count": 16,
   "id": "87ce99c4-bd1a-42cb-bd58-af5cc4cd30ba",
   "metadata": {},
   "outputs": [
    {
     "name": "stdout",
     "output_type": "stream",
     "text": [
      "The word 'It' appears 247 times.\n",
      "|-------|-------|\n",
      "| WORD  | COUNT |\n",
      "|-------|-------|\n",
      "| The   |   273 |\n",
      "| the   |  4060 |\n",
      "| it    |  1288 |\n",
      "|-------|-------|\n",
      "| TOTAL |  5621 |\n",
      "|-------|-------|\n"
     ]
    }
   ],
   "source": [
    "# Case insensitivity\n",
    "print(word_count_summary(\"../pride-and-prejudice.txt\", \"It\"))\n",
    "print(word_count_summary(\"../pride-and-prejudice.txt\", [\"The\", \"the\", \"it\"]))"
   ]
  },
  {
   "cell_type": "code",
   "execution_count": 17,
   "id": "8b29f0b5-4229-470a-823d-e1c42b116698",
   "metadata": {},
   "outputs": [
    {
     "name": "stdout",
     "output_type": "stream",
     "text": [
      "The word '0' appears 0 times.\n",
      "|-------|-------|\n",
      "| WORD  | COUNT |\n",
      "|-------|-------|\n",
      "| 4     |     1 |\n",
      "| 7     |     1 |\n",
      "| 2     |     2 |\n",
      "|-------|-------|\n",
      "| TOTAL |     4 |\n",
      "|-------|-------|\n"
     ]
    }
   ],
   "source": [
    "# A string containing numeric characters\n",
    "print(word_count_summary(\"../a-tale-of-two-cities.txt\", \"0\"))\n",
    "print(word_count_summary(\"../pride-and-prejudice.txt\", [\"4\", \"7\", \"2\"]))"
   ]
  },
  {
   "cell_type": "code",
   "execution_count": 18,
   "id": "804206c8-c97e-4ab5-a97f-e8735b2be879",
   "metadata": {},
   "outputs": [
    {
     "name": "stdout",
     "output_type": "stream",
     "text": [
      "|-------|-------|\n",
      "| WORD  | COUNT |\n",
      "|-------|-------|\n",
      "| they  |   474 |\n",
      "| re    |     4 |\n",
      "|-------|-------|\n",
      "| TOTAL |   478 |\n",
      "|-------|-------|\n",
      "|-------|-------|\n",
      "| WORD  | COUNT |\n",
      "|-------|-------|\n",
      "| they  |   457 |\n",
      "| re    |    11 |\n",
      "| stop  |    16 |\n",
      "| that  |  1827 |\n",
      "|-------|-------|\n",
      "| TOTAL |  2311 |\n",
      "|-------|-------|\n"
     ]
    }
   ],
   "source": [
    "# A string containing punctuation\n",
    "print(word_count_summary(\"../pride-and-prejudice.txt\", \"they're\"))\n",
    "print(word_count_summary(\"../a-tale-of-two-cities.txt\", [\"they're\", \"stop!\", \"that?\"]))"
   ]
  },
  {
   "cell_type": "code",
   "execution_count": 19,
   "id": "c43c8f0a-d7b2-4e09-8272-3247655ec69f",
   "metadata": {},
   "outputs": [
    {
     "name": "stdout",
     "output_type": "stream",
     "text": [
      "|-------|-------|\n",
      "| WORD  | COUNT |\n",
      "|-------|-------|\n",
      "| he    |  1455 |\n",
      "| said  |   661 |\n",
      "|-------|-------|\n",
      "| TOTAL |  2116 |\n",
      "|-------|-------|\n",
      "|-------|-------|\n",
      "| WORD  | COUNT |\n",
      "|-------|-------|\n",
      "| this  |   375 |\n",
      "| can   |   202 |\n",
      "| you   |  1129 |\n",
      "| want  |    44 |\n",
      "|-------|-------|\n",
      "| TOTAL |  1750 |\n",
      "|-------|-------|\n"
     ]
    }
   ],
   "source": [
    "# A string containing a space character\n",
    "print(word_count_summary(\"../a-tale-of-two-cities.txt\", \"he said\"))\n",
    "print(word_count_summary(\"../pride-and-prejudice.txt\", [\"this can\", \"you want\"]))"
   ]
  },
  {
   "cell_type": "code",
   "execution_count": 20,
   "id": "d698a069-a271-459c-aa8d-37a9a29b2503",
   "metadata": {},
   "outputs": [
    {
     "name": "stdout",
     "output_type": "stream",
     "text": [
      "The word 'a' appears 1899 times.\n",
      "|-------|-------|\n",
      "| WORD  | COUNT |\n",
      "|-------|-------|\n",
      "| I     |  1968 |\n",
      "| A     |   140 |\n",
      "|-------|-------|\n",
      "| TOTAL |  2108 |\n",
      "|-------|-------|\n"
     ]
    }
   ],
   "source": [
    "# Single character strings\n",
    "print(word_count_summary(\"../pride-and-prejudice.txt\", \"a\"))\n",
    "print(word_count_summary(\"../a-tale-of-two-cities.txt\", [\"I\", \"A\"]))"
   ]
  },
  {
   "cell_type": "code",
   "execution_count": 21,
   "id": "ec3ee923-ec19-4aa7-a967-355c246df2ed",
   "metadata": {},
   "outputs": [
    {
     "name": "stdout",
     "output_type": "stream",
     "text": [
      "The word 'done' appears 92 times.\n",
      "|-------|-------|\n",
      "| WORD  | COUNT |\n",
      "|-------|-------|\n",
      "| said  |   402 |\n",
      "| it    |  1288 |\n",
      "| him   |   752 |\n",
      "| done  |    92 |\n",
      "|-------|-------|\n",
      "| TOTAL |  2534 |\n",
      "|-------|-------|\n"
     ]
    }
   ],
   "source": [
    "# Repeated words\n",
    "print(word_count_summary(\"../pride-and-prejudice.txt\", \"done done done\"))\n",
    "print(word_count_summary(\"../pride-and-prejudice.txt\", [\"said said it\", \"said\", \"him\", \"done\"]))"
   ]
  },
  {
   "cell_type": "code",
   "execution_count": 22,
   "id": "5e26542b-c9d3-4840-aa3a-06c26246e3b4",
   "metadata": {},
   "outputs": [
    {
     "name": "stdout",
     "output_type": "stream",
     "text": [
      "|-------|-------|\n",
      "| WORD  | COUNT |\n",
      "|-------|-------|\n",
      "| how   |   166 |\n",
      "| did   |   252 |\n",
      "|-------|-------|\n",
      "| TOTAL |   418 |\n",
      "|-------|-------|\n",
      "|-------|-------|\n",
      "| WORD  | COUNT |\n",
      "|-------|-------|\n",
      "| you   |  1177 |\n",
      "| lost  |    41 |\n",
      "| me    |   526 |\n",
      "| this  |   498 |\n",
      "| can   |   126 |\n",
      "|-------|-------|\n",
      "| TOTAL |  2368 |\n",
      "|-------|-------|\n"
     ]
    }
   ],
   "source": [
    "# Multiple spaces bewteen words\n",
    "print(word_count_summary(\"../pride-and-prejudice.txt\", \"how   did\"))\n",
    "print(word_count_summary(\"../a-tale-of-two-cities.txt\", [\"you   lost   me\", \"this  can\"]))"
   ]
  },
  {
   "cell_type": "code",
   "execution_count": 23,
   "id": "b54505fc-a880-4e1a-954e-3c8bf1902d00",
   "metadata": {},
   "outputs": [
    {
     "name": "stdout",
     "output_type": "stream",
     "text": [
      "|-------|-------|\n",
      "| WORD  | COUNT |\n",
      "|-------|-------|\n",
      "| dry   |     9 |\n",
      "| run   |    14 |\n",
      "|-------|-------|\n",
      "| TOTAL |    23 |\n",
      "|-------|-------|\n",
      "|-------|-------|\n",
      "| WORD  | COUNT |\n",
      "|-------|-------|\n",
      "| magic |     0 |\n",
      "| gold  |     0 |\n",
      "| you   |  1129 |\n",
      "| want  |    44 |\n",
      "|-------|-------|\n",
      "| TOTAL |  1173 |\n",
      "|-------|-------|\n"
     ]
    }
   ],
   "source": [
    "# Special characters between words\n",
    "print(word_count_summary(\"../a-tale-of-two-cities.txt\", \"dry-run\"))\n",
    "print(word_count_summary(\"../pride-and-prejudice.txt\", [\"magic#gold\", \"you-want\"]))"
   ]
  },
  {
   "cell_type": "code",
   "execution_count": 24,
   "id": "3078d062-f021-4759-9f8f-dac33d670914",
   "metadata": {},
   "outputs": [
    {
     "name": "stdout",
     "output_type": "stream",
     "text": [
      "|---------|-------|\n",
      "| WORD    | COUNT |\n",
      "|---------|-------|\n",
      "| Good    |    14 |\n",
      "| morning |    79 |\n",
      "|---------|-------|\n",
      "| TOTAL   |    93 |\n",
      "|---------|-------|\n"
     ]
    }
   ],
   "source": [
    "# A new line character\n",
    "print(word_count_summary(\"../pride-and-prejudice.txt\", \"Good\\nmorning\"))"
   ]
  },
  {
   "cell_type": "code",
   "execution_count": null,
   "id": "e1af0187-f09b-4e97-8433-cfac8ad94303",
   "metadata": {},
   "outputs": [],
   "source": []
  }
 ],
 "metadata": {
  "kernelspec": {
   "display_name": "Python 3 (ipykernel)",
   "language": "python",
   "name": "python3"
  },
  "language_info": {
   "codemirror_mode": {
    "name": "ipython",
    "version": 3
   },
   "file_extension": ".py",
   "mimetype": "text/x-python",
   "name": "python",
   "nbconvert_exporter": "python",
   "pygments_lexer": "ipython3",
   "version": "3.13.2"
  }
 },
 "nbformat": 4,
 "nbformat_minor": 5
}
