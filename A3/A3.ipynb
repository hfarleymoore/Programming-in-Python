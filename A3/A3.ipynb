{
 "cells": [
  {
   "cell_type": "markdown",
   "id": "94c0e4ae-4e85-4a1e-a6b7-277841559bca",
   "metadata": {},
   "source": [
    "## Introduction\n",
    "\n",
    "This report demonstrates the code developed in the `assignment3_code.py` file, illustrating how the classes and methods can be used to process data effectively."
   ]
  },
  {
   "cell_type": "markdown",
   "id": "c3393d67-cbd4-487c-b255-e7669b39b939",
   "metadata": {},
   "source": [
    "#### Design\n",
    "Throughout this assignment I have used lists of dictionaries to act as databases. I have hardcoded the tabular data in question one as a list of dictionaries into the accompanying .py file, as this data will not change and is small. This format is ideal for structured data, as each field can be assigned a meaningful key (e.g. 'ISBN' in the books database or 'postId' in the comments database). The list groups the dictionaries together, which makes it easy to add, remove, or modify data. Pythons's built in functions can also be used for tasks such as sorting, searching, and filtering, and this strucutre allows continuity in approach throughout the assignment.\n",
    "\n",
    "I have used three classes to organise the code: `helperClass`, `bookData`, and `commentData`. The `helperClass` contains utility functions that help make the code more modular, such as `wrap_text()`, `get_url()`, `gen_rand_time()`, and others.`bookData` and `commentData` follow similar structures to one another. However, there are extensions and changes between each class that are relevant to either the books or comments databases only, such as validating ISBN numbers in the `bookData` class and adding `post_info()` to the comments database. This mirrored functionality makes the methods in each class intuitive to use. It is worth noting that the methods for filtering in `commentData` allow the user to specify the field you want to filter by, in addition to the specific value you are filtering by. This serves to make the `commentData` methods more modular and re-usable, and allows the methods to be used even if variable names are subject to change (as is the case after using the `post_info()` method). \n",
    "\n",
    "#### Implementation highlights\n",
    "This implementation prints all books in a well-formatted table, with column widths dynamically adjusted based on the content. It also filters the data case-insensitively, to allow for minor input errors. The full list of books is stored in `self.books`, and each filter operation returns a new `bookData` object containing a filtered subset. Similarly, in the `commentData` class, each filter operation returns a new `commentData` object with a filtered subset, ensuring that the original list of dictionaries remains unchanged. This approach promotes clean, modular code by preserving the integrity of the original dataset. There are a couple of exceptions to this, for instance when the `post_info` method is called, which adds post_info data to the existing dataset, modifying it directly.\n",
    "\n",
    "The `bookData` and `commentData` classes include optional parameters in their methods, such as `show`, `limit`, and `wrap_width`, providing flexibility in how the data is displayed. These parameters allow users to:\n",
    "\n",
    " - Control whether to display all text for each value (useful when dealing with long text fields like the body of comment data).\n",
    " - Limit the number of entries printed to avoid excessive output.\n",
    " - Wrap text to ensure the table remains neatly formatted.\n",
    " - Chaining methods: Each filtering method returns a new object, enabling logical method chaining.\n",
    "\n",
    "The commentData class has an extra parameter, `preview_only`, to handle the typically larger and more complex data associated with comments. This parameter helps manage how the text is displayed, allowing longer string values to be cut off at a specified length, helping to maintain overall readability.This approach ensures that the code remains modular, flexible, and efficient, enabling users to customise the display and behavior of the output as needed."
   ]
  },
  {
   "cell_type": "code",
   "execution_count": 1,
   "id": "c6ea5f4f-0118-4000-9c61-83306dad3815",
   "metadata": {},
   "outputs": [],
   "source": [
    "import assignment3_code as at\n",
    "printer = at.bookData(at.books)"
   ]
  },
  {
   "cell_type": "markdown",
   "id": "0913d66d-9928-4042-9013-7f731ad77a3b",
   "metadata": {},
   "source": [
    "#### Question 1: Book Data - Function Demonstations\n",
    "The code below demonstrates functions to print book data based on different search and filter criteria. This includes printing all books data, printing by book title or author, printing over a specified price, or sorting and printing the database. To keep the notebook clean and succinct, I have set a limit on the sorted books to 4. Each method below prints the results of a filtered books database using the `printAllBooks()` method, demonstrating modularity. The formatted tables that are printed dynamically adjust based on the length of the data in the filtered results. Note that the `helperClass.wrap_text()` method specifies the width at which to wrap text. "
   ]
  },
  {
   "cell_type": "code",
   "execution_count": 2,
   "id": "60e4f47a-51d3-4020-a6fd-d22b4c0d0aae",
   "metadata": {},
   "outputs": [
    {
     "name": "stdout",
     "output_type": "stream",
     "text": [
      "1. All books\n",
      "------------------------------------------------------------------------------\n",
      "| ISBN                | Title              | Author              | Price (£) |\n",
      "------------------------------------------------------------------------------\n",
      "| 978-1-785-15028-9   | Go Set a Watchman  | Harper Lee          |      9.89 |\n",
      "| 978-0-744-01669-7   | The Legend of      | Prima Games         |     14.99 |\n",
      "|                     | Zelda: Tri Force   |                     |           |\n",
      "|                     | Heroes             |                     |           |\n",
      "| 978-0-099-52912-6   | Catch-22           | Joseph Heller       |      6.29 |\n",
      "| 978-0-007-44783-1   | A Clash of Kings   | George R. R. Martin |      4.95 |\n",
      "| 978-1-853-26000-1   | Pride and          | Jane Austin         |      1.99 |\n",
      "|                     | Prejudice          |                     |           |\n",
      "| 978-0-099-57685-3   | Casino Royale      | Ian Fleming         |      6.79 |\n",
      "| 978-0-099-54948-2   | To Kill a          | Harper Lee          |      4.99 |\n",
      "|                     | Mockingbird        |                     |           |\n",
      "| 978-0-333-99866-7   | Fundamentals of    | Mark Burrell        |     41.10 |\n",
      "|                     | Computer           |                     |           |\n",
      "|                     | Architecture       |                     |           |\n",
      "| 978-0-701-18935-8   | Simply Nigella:    | Nigella Lawson      |     12.50 |\n",
      "|                     | Feel Good Food     |                     |           |\n",
      "------------------------------------------------------------------------------\n",
      "\n",
      "2. By title: 'Catch-22'\n",
      "------------------------------------------------------------------------\n",
      "| ISBN                | Title              | Author        | Price (£) |\n",
      "------------------------------------------------------------------------\n",
      "| 978-0-099-52912-6   | Catch-22           | Joseph Heller |      6.29 |\n",
      "------------------------------------------------------------------------\n",
      "\n",
      "3. By author: 'George R. R. Martin'\n",
      "------------------------------------------------------------------------------\n",
      "| ISBN                | Title              | Author              | Price (£) |\n",
      "------------------------------------------------------------------------------\n",
      "| 978-0-007-44783-1   | A Clash of Kings   | George R. R. Martin |      4.95 |\n",
      "------------------------------------------------------------------------------\n",
      "\n",
      "4. Books over £12.99\n",
      "-----------------------------------------------------------------------\n",
      "| ISBN                | Title              | Author       | Price (£) |\n",
      "-----------------------------------------------------------------------\n",
      "| 978-0-744-01669-7   | The Legend of      | Prima Games  |     14.99 |\n",
      "|                     | Zelda: Tri Force   |              |           |\n",
      "|                     | Heroes             |              |           |\n",
      "| 978-0-333-99866-7   | Fundamentals of    | Mark Burrell |     41.10 |\n",
      "|                     | Computer           |              |           |\n",
      "|                     | Architecture       |              |           |\n",
      "-----------------------------------------------------------------------\n",
      "\n",
      "5. All books sorted by price (limit = 4)\n",
      "-------------------------------------------------------------------------\n",
      "| ISBN                | Title              | Author         | Price (£) |\n",
      "-------------------------------------------------------------------------\n",
      "| 978-0-333-99866-7   | Fundamentals of    | Mark Burrell   |     41.10 |\n",
      "|                     | Computer           |                |           |\n",
      "|                     | Architecture       |                |           |\n",
      "| 978-0-744-01669-7   | The Legend of      | Prima Games    |     14.99 |\n",
      "|                     | Zelda: Tri Force   |                |           |\n",
      "|                     | Heroes             |                |           |\n",
      "| 978-0-701-18935-8   | Simply Nigella:    | Nigella Lawson |     12.50 |\n",
      "|                     | Feel Good Food     |                |           |\n",
      "| 978-1-785-15028-9   | Go Set a Watchman  | Harper Lee     |      9.89 |\n",
      "-------------------------------------------------------------------------\n"
     ]
    }
   ],
   "source": [
    "print(\"1. All books\") \n",
    "printer.printAllBooks()\n",
    "\n",
    "print(\"\\n2. By title: 'Catch-22'\")\n",
    "printer.printByTitle('Catch-22')\n",
    "\n",
    "print(\"\\n3. By author: 'George R. R. Martin'\")\n",
    "printer.printByAuthor('George R. R. Martin')\n",
    "\n",
    "print(\"\\n4. Books over £12.99\")\n",
    "printer.printOverPrice(12.99)\n",
    "\n",
    "print(\"\\n5. All books sorted by price (limit = 4)\")\n",
    "printer.printAllBooksSorted('Price', reverse_param=True, limit=4);"
   ]
  },
  {
   "cell_type": "markdown",
   "id": "1b782da5-1b12-4863-8bf8-42cef38c555c",
   "metadata": {},
   "source": [
    "#### Question 2: ISBN Validation\n",
    "The `valid()` method returns a boolean value depending on whether a given input is a valid ISBN number or not. The `validateISBNs()` method removes books with invalid ISBN numbers, if there are any. "
   ]
  },
  {
   "cell_type": "code",
   "execution_count": 3,
   "id": "f144dad1-ef32-4fec-8731-c48e8bf8e955",
   "metadata": {},
   "outputs": [
    {
     "data": {
      "text/plain": [
       "True"
      ]
     },
     "execution_count": 3,
     "metadata": {},
     "output_type": "execute_result"
    }
   ],
   "source": [
    "printer.valid(9781785150289) # Check for a valid ISBN"
   ]
  },
  {
   "cell_type": "code",
   "execution_count": 4,
   "id": "25d2d582-9f24-49eb-8b46-d6c79f16359f",
   "metadata": {},
   "outputs": [
    {
     "name": "stdout",
     "output_type": "stream",
     "text": [
      "Removing book: 'Catch-22' from the database.\n",
      "Removing book: 'Fundamentals of Computer Architecture' from the database.\n"
     ]
    }
   ],
   "source": [
    "printer.validateISBNs(); # Demonstrate how to remove books with invalid ISBN numbers"
   ]
  },
  {
   "cell_type": "code",
   "execution_count": 5,
   "id": "fbd6ecbd-0dc7-4ed0-bcd1-bcb98267268d",
   "metadata": {},
   "outputs": [
    {
     "name": "stdout",
     "output_type": "stream",
     "text": [
      "All books in database have valid ISBN numbers.\n"
     ]
    }
   ],
   "source": [
    "printer.validateISBNs(); # No invalid ISBN numbers"
   ]
  },
  {
   "cell_type": "markdown",
   "id": "fd40b1b9-546c-45a2-ad36-f2e50a0b15cb",
   "metadata": {},
   "source": [
    "#### Question 3: Comments JSON data"
   ]
  },
  {
   "cell_type": "markdown",
   "id": "e4762b93-e71d-4dcf-b78d-192cd7eade9b",
   "metadata": {},
   "source": [
    "Question 3 loads JSON data from a given URL and processes this using the `commentData` class. The code demonstrates filtering and printing, and parameters to control display have been harnessed to maintain a neat report. These inlcude the `limit` and `preview_only` parameters. The methods used mirror the structure of question 1, highlighting the modularity of the code."
   ]
  },
  {
   "cell_type": "code",
   "execution_count": 6,
   "id": "13ec1ef9-372a-4177-9c36-03297254d993",
   "metadata": {},
   "outputs": [],
   "source": [
    "# Load JSON data from given URL\n",
    "decoded_data = at.helperClass.get_url(\"https://jsonplaceholder.typicode.com/comments\")\n",
    "comments = at.commentData(decoded_data)"
   ]
  },
  {
   "cell_type": "code",
   "execution_count": 7,
   "id": "491da289-5a85-4797-9e31-1489e83e778b",
   "metadata": {},
   "outputs": [
    {
     "name": "stdout",
     "output_type": "stream",
     "text": [
      "Filter by ID = 11\n",
      "------------------------------------------------------------------------\n",
      "| ID  | Post ID | Name       | Email        | Body                     |\n",
      "------------------------------------------------------------------------\n",
      "| 11  | 3       | fugit      | Veronica_Goo | ut dolorum nostrum id    |\n",
      "|     |         | labore     | dwin@timmoth | quia...                  |\n",
      "|     |         | qui...     | y.net        |                          |\n",
      "------------------------------------------------------------------------\n",
      "\n",
      "Filter by postId > 3 (limit = 1)\n",
      "------------------------------------------------------------------------\n",
      "| ID  | Post ID | Name       | Email        | Body                     |\n",
      "------------------------------------------------------------------------\n",
      "| 16  | 4       | perferendi | Christine@ay | iste ut laborum aliquid  |\n",
      "|     |         | s temp...  | ana.info     | ve...                    |\n",
      "------------------------------------------------------------------------\n",
      "\n",
      "Sort by ID (reverse, limit = 2)\n",
      "------------------------------------------------------------------------\n",
      "| ID  | Post ID | Name       | Email        | Body                     |\n",
      "------------------------------------------------------------------------\n",
      "| 500 | 100     | ex eaque   | Emma@joanny. | perspiciatis quis        |\n",
      "|     |         | eum nat... | ca           | doloremq...              |\n",
      "------------------------------------------------------------------------\n",
      "| 499 | 100     | excepturi  | Wilburn_Laba | et necessitatibus        |\n",
      "|     |         | sunt c...  | die@araceli. | tempora ...              |\n",
      "|     |         |            | name         |                          |\n",
      "------------------------------------------------------------------------\n"
     ]
    }
   ],
   "source": [
    "# Demonstrate how to filter and print comments\n",
    "print(\"Filter by ID = 11\")\n",
    "comments.printByVar('id', 11, preview_only=True);\n",
    "\n",
    "print(\"\\nFilter by postId > 3 (limit = 1)\")\n",
    "comments.printOverVar('postId', 3, preview_only=True,limit=1);\n",
    "\n",
    "print(\"\\nSort by ID (reverse, limit = 2)\")\n",
    "comments.printCommentsSorted(\"id\", reverse_param=True, preview_only=True, limit=2);"
   ]
  },
  {
   "cell_type": "markdown",
   "id": "f8ee2e2c-46bf-493a-b1be-8a27b1e6c8ff",
   "metadata": {},
   "source": [
    "Simulated information about each post's time, date, and IP address can be added using the `add_field()` method. This method generates a random date between 1st January 2010 and yesterday's date, avoiding future timestamps. The helper method `gen_rand_ip()` is also used to generate an IP address. These helper functions use functionality from the random and datetime modules. These additions are previewed below, with just the first entry being displayed to demonstrate succesful addition of metadata. The new dataset is then re-coded into valid JSON using the `encode_json` method. "
   ]
  },
  {
   "cell_type": "code",
   "execution_count": 8,
   "id": "c9ce758b-fae5-4f61-91f8-2e4c1cfe8b52",
   "metadata": {},
   "outputs": [
    {
     "name": "stdout",
     "output_type": "stream",
     "text": [
      "------------------------------------------------------------------------------\n",
      "| ID  | Post ID | Name       | Email        | Body        | Post Info        |\n",
      "------------------------------------------------------------------------------\n",
      "| 1   | 1       | id labore  | Eliseo@gardn | laudantium  | Time: 02:46:11   |\n",
      "|     |         | ex et ...  | er.biz       | enim quasi  | Date: 2013:04:14 |\n",
      "|     |         |            |              | est ...     | IP address:      |\n",
      "|     |         |            |              |             | 70.71.165.153    |\n",
      "------------------------------------------------------------------------------\n"
     ]
    }
   ],
   "source": [
    "# Add new 'post_info' field including date, time, and IP\n",
    "comments.add_field(show=True, preview_only=True, limit_field=1);"
   ]
  },
  {
   "cell_type": "code",
   "execution_count": 9,
   "id": "dfa559fb-8a1d-42ef-84b8-932a7e48efde",
   "metadata": {},
   "outputs": [],
   "source": [
    "# Encode the data back to JSON format\n",
    "json_data = at.helperClass.encode_json(comments.comments)"
   ]
  },
  {
   "cell_type": "markdown",
   "id": "7dc4abde-843c-455d-aab8-804cac22dd3b",
   "metadata": {},
   "source": [
    "### Testing"
   ]
  },
  {
   "cell_type": "code",
   "execution_count": 10,
   "id": "8266c40d-b4b3-4e22-8e51-ad1f04a4e79d",
   "metadata": {},
   "outputs": [
    {
     "name": "stdout",
     "output_type": "stream",
     "text": [
      "No books found.\n",
      "No comments found with 'id' matching '5000'.\n"
     ]
    }
   ],
   "source": [
    "# No matching values\n",
    "printer.printByTitle(\"Not found\");\n",
    "comments.printByVar('id', 5000);"
   ]
  },
  {
   "cell_type": "code",
   "execution_count": 11,
   "id": "d1443e0e-14f5-47ea-b4e3-8be5b7364647",
   "metadata": {},
   "outputs": [
    {
     "name": "stdout",
     "output_type": "stream",
     "text": [
      "----------------------------------------------------------------------\n",
      "| ISBN                | Title              | Author      | Price (£) |\n",
      "----------------------------------------------------------------------\n",
      "| 978-0-099-57685-3   | Casino Royale      | Ian Fleming |      6.79 |\n",
      "----------------------------------------------------------------------\n",
      "-------------------------------------------------------------------------------------------\n",
      "| ID  | Post ID | Name       | Email        | Body                     | Post Info        |\n",
      "-------------------------------------------------------------------------------------------\n",
      "| 1   | 1       | id labore  | Eliseo@gardn | laudantium enim quasi    | Time: 02:46:11   |\n",
      "|     |         | ex et quam | er.biz       | est quidem magnam        | Date: 2013:04:14 |\n",
      "|     |         | laborum    |              | voluptate ipsam eos      | IP address:      |\n",
      "|     |         |            |              | tempora quo              | 70.71.165.153    |\n",
      "|     |         |            |              | necessitatibus dolor     |                  |\n",
      "|     |         |            |              | quam autem quasi         |                  |\n",
      "|     |         |            |              | reiciendis et nam        |                  |\n",
      "|     |         |            |              | sapiente accusantium     |                  |\n",
      "-------------------------------------------------------------------------------------------\n"
     ]
    }
   ],
   "source": [
    "# Case insensitivity\n",
    "printer.printByAuthor(\"ian fleming\");\n",
    "comments.printByVar('name', 'Id Labore ex Et Quam LABORUM');"
   ]
  },
  {
   "cell_type": "markdown",
   "id": "52725b1b-a5a4-41b9-9fda-5db2cdf46590",
   "metadata": {},
   "source": [
    "#### Chaining methods"
   ]
  },
  {
   "cell_type": "markdown",
   "id": "539cf870-d622-48ed-8015-268323687a8b",
   "metadata": {},
   "source": [
    "To build in flexibility, each filtering method (e.g. `printByTitle()` or `printByVar()`) is designed to both print results immediately, if the optional parameter `show` is set to True, and return a new object containing only the filtered subset of the data. This approach ensures users can see the results of each filtering step if required and allows method chaining. The example below demonstrates the books data being filtered by price, and then results of this filter being sorted. "
   ]
  },
  {
   "cell_type": "code",
   "execution_count": 12,
   "id": "3a9bbd52-1352-4a2d-985f-81001a257029",
   "metadata": {},
   "outputs": [
    {
     "name": "stdout",
     "output_type": "stream",
     "text": [
      "-------------------------------------------------------------------------\n",
      "| ISBN                | Title              | Author         | Price (£) |\n",
      "-------------------------------------------------------------------------\n",
      "| 978-0-099-57685-3   | Casino Royale      | Ian Fleming    |      6.79 |\n",
      "| 978-1-785-15028-9   | Go Set a Watchman  | Harper Lee     |      9.89 |\n",
      "| 978-0-701-18935-8   | Simply Nigella:    | Nigella Lawson |     12.50 |\n",
      "|                     | Feel Good Food     |                |           |\n",
      "-------------------------------------------------------------------------\n"
     ]
    }
   ],
   "source": [
    "printer.printOverPrice(6.50, show=False).printAllBooksSorted('Price', limit=3);"
   ]
  },
  {
   "cell_type": "markdown",
   "id": "287fe96c-16d9-49d5-8c77-9362d008844a",
   "metadata": {},
   "source": [
    "Similar functionality is demonstrated in the `commentData` methods, where I have set a limit on the number of rows of being printed to the screen for neatness."
   ]
  },
  {
   "cell_type": "code",
   "execution_count": 13,
   "id": "475a7d1b-7e6e-464e-8521-ef5aec6ab5b8",
   "metadata": {},
   "outputs": [
    {
     "name": "stdout",
     "output_type": "stream",
     "text": [
      "-------------------------------------------------------------------------------------------\n",
      "| ID  | Post ID | Name       | Email        | Body                     | Post Info        |\n",
      "-------------------------------------------------------------------------------------------\n",
      "| 50  | 10      | dolorum    | Kiana_Predov | eum accusamus aut        | Time: 05:21:10   |\n",
      "|     |         | soluta     |              | delectus...              | Date: 2021:09:25 |\n",
      "|     |         | q...       | ic@yasmin.io |                          | IP address:      |\n",
      "|     |         |            |              |                          | 242.183.252.205  |\n",
      "-------------------------------------------------------------------------------------------\n",
      "| 49  | 10      | rerum      | Camryn.Weima | id est iure occaecati    | Time: 12:50:08   |\n",
      "|     |         | placeat    | nn@doris.io  | quam...                  | Date: 2014:12:24 |\n",
      "|     |         | qu...      |              |                          | IP address:      |\n",
      "|     |         |            |              |                          | 193.201.9.71     |\n",
      "-------------------------------------------------------------------------------------------\n",
      "| 48  | 10      | consequatu | Manuela_Steh | illum et alias quidem    | Time: 07:11:14   |\n",
      "|     |         | r anim...  |              | magn...                  | Date: 2024:07:05 |\n",
      "|     |         |            | r@chelsie.tv |                          | IP address:      |\n",
      "|     |         |            |              |                          | 159.243.204.193  |\n",
      "-------------------------------------------------------------------------------------------\n"
     ]
    }
   ],
   "source": [
    "comments.printByVar('postId', 10, show=False).printCommentsSorted('id', reverse_param=True, show=True, preview_only=True, limit=3);"
   ]
  },
  {
   "cell_type": "markdown",
   "id": "49674e26-1c1f-49d7-acc8-206d0f35cbf3",
   "metadata": {},
   "source": [
    "The examples used in this report demonstrate a range of behaviour in the code. Basic functionality with correct and incorrect inputs, edge cases such as those with no matching values or case-insensitivity, method chaining, ISBN validation and post generation have all been demonstrated thoroughly yet succinctly.  "
   ]
  },
  {
   "cell_type": "markdown",
   "id": "113ccbdd-df83-4a06-b46e-75d537552c4b",
   "metadata": {},
   "source": [
    "### Difficulties"
   ]
  },
  {
   "cell_type": "markdown",
   "id": "0d0cf8ab-2767-49cf-8362-b693652a7617",
   "metadata": {},
   "source": [
    "One of the main challenges was allowing method calls to chain and allow for results to immediately be printed after each method was called. Chaining is helpful to build up a set of filters before displaying results, but it is clunky if the results of each method call are printed immediately. Therefore, my approach returns a new object containing filtered data to allow chaining, and I have added an optional parameter, `show` so users can specify whether to print results from filtering or sort methods or not. \n",
    "\n",
    "This approach does have some limitations. Returning a new object after each method call could lead to memory inefficiency for very large datasets, as many copies may be generated. On balance, this issue seems manageable due to working with small datasets in this instance. \n",
    "\n",
    "Another difficulty was displaying long comment data in a readable format. Values in the fields 'name' or 'body' could contain many characters. Printing these details in a neatly formatted table was a challenge. To address this I developed a `wrap_text()` function that wraps text within a fixed width, introduced a `preview_only` parameter to avoid long displays and instead show partial values, and added a limit parameter to control the number of results printed. These additions add complexity to the code I have written but they offer greater control over the way outputs are printed. From this process I learnt how to consider user experience better, and skills to work with formatting strings. If the user experiences difficulties, adjusting the width of the pane may allow the table to be presented more neatly.\n"
   ]
  },
  {
   "cell_type": "markdown",
   "id": "ec2432b4-dcf3-45b5-b8b4-4422209d34ce",
   "metadata": {},
   "source": [
    "### Conclusion"
   ]
  },
  {
   "cell_type": "markdown",
   "id": "22abf2c9-fc9b-4ba9-bdfb-711492870369",
   "metadata": {},
   "source": [
    "The code effectively processes structured data such as tabular and JSON data by storing it as a list of dictionaries. This implementation allows intutitve filtering and sorting and the methods developed follow consistent logic. This project goes beyond the assignment brief as the methods utilise additional display controls added that allow the user to decide how filtered results are displayed. This demonstrates awareness of user experience in a thoughtful way. Moreover the code is modular, and intutive to follow due to the mirrored structure of methods in `bookData` and `commentData`. "
   ]
  }
 ],
 "metadata": {
  "kernelspec": {
   "display_name": "Python 3 (ipykernel)",
   "language": "python",
   "name": "python3"
  },
  "language_info": {
   "codemirror_mode": {
    "name": "ipython",
    "version": 3
   },
   "file_extension": ".py",
   "mimetype": "text/x-python",
   "name": "python",
   "nbconvert_exporter": "python",
   "pygments_lexer": "ipython3",
   "version": "3.13.3"
  }
 },
 "nbformat": 4,
 "nbformat_minor": 5
}
