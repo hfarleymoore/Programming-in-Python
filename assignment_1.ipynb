{
 "cells": [
  {
   "cell_type": "markdown",
   "id": "f7c3e293-c24a-4db6-8887-e8d5669b377c",
   "metadata": {},
   "source": [
    "# Assignment 1\n",
    "\n",
    "## Brief\n",
    "This Jupyter notebook contains a small program that reads in a simple text file and searches for some words. It counts the number of times this word appears in the file, and reports the counts to the terminal.\n",
    "\n",
    "TEST CHANGE\n",
    "\n",
    "### Functions\n",
    "\n",
    "#### Helper functions\n",
    "To aid readability, there are some helper functions defined. These reduce repetition within the code and keep the notebook neat. The two helper functions are:\n",
    "\n",
    "    1. input_checks(input1, input2)\n",
    "\n",
    "This function has two parameters, input1 and input2. The type of each argument given in the function call is checked. input1 should be of type string. input2 should be either of type string or list, where each item in the list is a string. \n",
    "\n",
    "    2. print_dict_as_table(data)\n",
    "\n",
    "This function has one parameter, which must be of type dictionary. The function aggregates all the 'values' from the dictionary, and stores this result as a variable. The function prints out the dictionary as a table, where any string values from the dictionary are left aligned, and any integer values are right aligned. The function gives the printed table a header row, containing the headers 'WORD' and 'COUNT'. It also gives a summary row, which contains 'TOTAL' and the aggregated number of times each word in the dictionary appears in the text. \n",
    "\n",
    "Within this function are two smaller functions, which aim to reduce repetition of code. These are print_dash_row() and print_kv_rows(dict_input). \n",
    "\n",
    "## Helper Functions"
   ]
  },
  {
   "cell_type": "code",
   "execution_count": 1,
   "id": "45b9d1f3-7f10-4221-ae3b-7c5fe6eb5702",
   "metadata": {
    "execution": {
     "iopub.execute_input": "2025-02-03T15:41:53.013911Z",
     "iopub.status.busy": "2025-02-03T15:41:53.013632Z",
     "iopub.status.idle": "2025-02-03T15:41:53.023246Z",
     "shell.execute_reply": "2025-02-03T15:41:53.021838Z",
     "shell.execute_reply.started": "2025-02-03T15:41:53.013880Z"
    }
   },
   "outputs": [],
   "source": [
    "# Import necessary libraries\n",
    "import re"
   ]
  },
  {
   "cell_type": "code",
   "execution_count": 2,
   "id": "83169d2d-0bb0-45f3-ae1f-12ab29b40e83",
   "metadata": {
    "execution": {
     "iopub.execute_input": "2025-02-03T15:41:53.024888Z",
     "iopub.status.busy": "2025-02-03T15:41:53.024615Z",
     "iopub.status.idle": "2025-02-03T15:41:53.047379Z",
     "shell.execute_reply": "2025-02-03T15:41:53.046355Z",
     "shell.execute_reply.started": "2025-02-03T15:41:53.024860Z"
    }
   },
   "outputs": [],
   "source": [
    "# Define a function to check types of inputs \n",
    "def input_checks(input1, input2):\n",
    "\n",
    "    # Check first input is a string\n",
    "    if not isinstance(input1, str):\n",
    "        return \"First input must be of type string.\"\n",
    "        \n",
    "    # Check second input is a string, or list of strings\n",
    "    elif not (isinstance(input2, str) or\n",
    "        (isinstance(input2, list) and all(isinstance(item, str) for item in input2))):\n",
    "        return \"Second input must either be a string, or a list of strings.\"\n",
    "\n",
    "    # If both inputs are of the necessary type, the check is complete\n",
    "    else:\n",
    "        return None \n",
    "\n",
    "\n",
    "    \n",
    "    "
   ]
  },
  {
   "cell_type": "code",
   "execution_count": 3,
   "id": "55cf3971-50c2-480a-8df4-266f4733c5e7",
   "metadata": {
    "execution": {
     "iopub.execute_input": "2025-02-03T15:41:53.048728Z",
     "iopub.status.busy": "2025-02-03T15:41:53.048453Z",
     "iopub.status.idle": "2025-02-03T15:41:53.068155Z",
     "shell.execute_reply": "2025-02-03T15:41:53.066890Z",
     "shell.execute_reply.started": "2025-02-03T15:41:53.048698Z"
    }
   },
   "outputs": [],
   "source": [
    "# Define a function that takes a dictionary as the argument, and prints out a table\n",
    "def print_dict_as_table(data):\n",
    "\n",
    "    # Calculate total of values from dictionary\n",
    "    total = sum(data.values())\n",
    "\n",
    "    # Calculate necessary column widths by checking the max length the keys and values against the header and total rows \n",
    "    key_col_width = max([len(str(item)) for item in data.keys()] + [len(\"TOTAL\")])\n",
    "    value_col_width = max([len(str(item)) for item in data.values()] + [len(\"COUNT\"), len(str(total))])\n",
    "\n",
    "    # Create header and total\n",
    "    header_row = {\"WORD\": \"COUNT\"}\n",
    "    total_row = {\"TOTAL\": total}\n",
    "\n",
    "    # Define a function to generate a dashed row in the table\n",
    "    def print_dash_row():\n",
    "        print(\"|{:-<{}}|{:-<{}}|\".format(\"\", key_col_width + 2, \"\", value_col_width + 2))\n",
    "\n",
    "    # Define a function to print the search terms\n",
    "    def print_kv_rows(dict_input):\n",
    "        for key, value in dict_input.items():\n",
    "            # If both the keys and values of the dictionary are strings, left align both\n",
    "            if (isinstance(key, str) and isinstance(value, (str))):\n",
    "                print(\"| {:<{}} | {:<{}} |\".format(key, key_col_width, value, value_col_width))\n",
    "            # If key is a string and values are integers, left align strings and right align integers    \n",
    "            elif (isinstance(key, str) and (isinstance(value, int))):\n",
    "                print(\"| {:<{}} | {:>{}} |\".format(key, key_col_width, value, value_col_width))\n",
    "            else:\n",
    "                return \"Dictionary contains incorrect data types. Keys must be of type string. Values must be of either type string or integer.\"\n",
    "                \n",
    "    # Do header first\n",
    "    print_dash_row()\n",
    "    print_kv_rows(header_row)\n",
    "    print_dash_row()\n",
    "\n",
    "    # Search terms\n",
    "    print_kv_rows(data)\n",
    "    print_dash_row()\n",
    "\n",
    "    # Total\n",
    "    print_kv_rows(total_row)        \n",
    "    print_dash_row()\n",
    "\n",
    "\n",
    "    "
   ]
  },
  {
   "cell_type": "markdown",
   "id": "6b61ae68-48d5-48e3-92eb-6e1c6b13b665",
   "metadata": {},
   "source": [
    "### Main Function\n",
    "\n",
    "    1. word_count_summary(file_path, search_terms)\n",
    "\n",
    "'word_count_summary' takes two inputs. The first, 'file_path' is a string of the file path that we want to read into the program. The second 'search_terms' is either a string or a list of strings. These are words that we want to count within the file that has been read in. \n",
    "\n",
    "The function first checks the inputs are of the correct type, using the function input_checks(). It then opens the file specified in the file_path, stores this as a string, and then finds all words within this string, saving each individual word into a list. \n",
    "\n",
    "The function handles cases when 'search_terms' is a string or a list of strings separately. If 'search_terms' is a single string..."
   ]
  },
  {
   "cell_type": "code",
   "execution_count": 4,
   "id": "1a33957a-66c9-4ced-8559-8408f75e4f9a",
   "metadata": {
    "execution": {
     "iopub.execute_input": "2025-02-03T15:41:53.069229Z",
     "iopub.status.busy": "2025-02-03T15:41:53.069002Z",
     "iopub.status.idle": "2025-02-03T15:41:53.084845Z",
     "shell.execute_reply": "2025-02-03T15:41:53.083877Z",
     "shell.execute_reply.started": "2025-02-03T15:41:53.069204Z"
    }
   },
   "outputs": [],
   "source": [
    "\n",
    "# Define a function that takes two inputs. A file path and a string or list of strings.\n",
    "def word_count_summary_case(file_path, search_terms):\n",
    "\n",
    "    # Check inputs are of the correct type\n",
    "    input_checks(file_path, search_terms)\n",
    "    \n",
    "    # Open the file, read its contents, and convert to lower\n",
    "    with open(file_path, \"r\") as file:\n",
    "        text = file.read()\n",
    "    \n",
    "    # Find all words, and store as a list\n",
    "    words = re.findall(\"\\\\w+\", text) \n",
    "\n",
    "    # We will handle single strings differently to a list of strings.\n",
    "    # If search terms is a single string.\n",
    "    if isinstance(search_terms, str):\n",
    "        count = 0\n",
    "        for word in words:\n",
    "            if search_terms == word:\n",
    "                count += 1\n",
    "        return \"The word '\" + search_terms + \"' appears \" + str(count) + \" times.\"\n",
    "\n",
    "    # Create a dictionary by setting the keys to the terms in search_terms and initialise values to 0.\n",
    "    aggregates = {term: 0 for term in search_terms}\n",
    "\n",
    "    # Use a for loop to loop through the words from the file, and check them against the keys in the dictionary.\n",
    "    # If the word from the file is present in the keys from the dictionary, corresponding value is increased by 1. \n",
    "    # In this way the values act as a counter for each key.\n",
    "    for word in words:\n",
    "        if word in aggregates:\n",
    "            aggregates[word] += 1\n",
    "            \n",
    "    return print_dict_as_table(aggregates)\n",
    "    "
   ]
  },
  {
   "cell_type": "markdown",
   "id": "6dfd1886-1e91-46a7-ad17-4fc3d2fd3102",
   "metadata": {},
   "source": [
    "## Testing"
   ]
  },
  {
   "cell_type": "code",
   "execution_count": 9,
   "id": "c9d0b276-6386-4f1d-8a86-b966b6a2d4fd",
   "metadata": {
    "execution": {
     "iopub.execute_input": "2025-02-03T15:43:37.287187Z",
     "iopub.status.busy": "2025-02-03T15:43:37.286635Z",
     "iopub.status.idle": "2025-02-03T15:43:37.347761Z",
     "shell.execute_reply": "2025-02-03T15:43:37.345916Z",
     "shell.execute_reply.started": "2025-02-03T15:43:37.287136Z"
    }
   },
   "outputs": [
    {
     "ename": "FileNotFoundError",
     "evalue": "[Errno 2] No such file or directory: 'CS5901_topic_1/resources/pride-and-prejudice.txt'",
     "output_type": "error",
     "traceback": [
      "\u001b[0;31m---------------------------------------------------------------------------\u001b[0m",
      "\u001b[0;31mFileNotFoundError\u001b[0m                         Traceback (most recent call last)",
      "Cell \u001b[0;32mIn[9], line 1\u001b[0m\n\u001b[0;32m----> 1\u001b[0m \u001b[43mword_count_summary_case\u001b[49m\u001b[43m(\u001b[49m\u001b[38;5;124;43m\"\u001b[39;49m\u001b[38;5;124;43mCS5901_topic_1/resources/pride-and-prejudice.txt\u001b[39;49m\u001b[38;5;124;43m\"\u001b[39;49m\u001b[43m,\u001b[49m\u001b[43m \u001b[49m\u001b[43m[\u001b[49m\u001b[38;5;124;43m\"\u001b[39;49m\u001b[38;5;124;43mJane\u001b[39;49m\u001b[38;5;124;43m\"\u001b[39;49m\u001b[43m,\u001b[49m\u001b[43m \u001b[49m\u001b[38;5;124;43m\"\u001b[39;49m\u001b[38;5;124;43mElizabeth\u001b[39;49m\u001b[38;5;124;43m\"\u001b[39;49m\u001b[43m,\u001b[49m\u001b[43m \u001b[49m\u001b[38;5;124;43m\"\u001b[39;49m\u001b[38;5;124;43mMary\u001b[39;49m\u001b[38;5;124;43m\"\u001b[39;49m\u001b[43m,\u001b[49m\u001b[43m \u001b[49m\u001b[38;5;124;43m\"\u001b[39;49m\u001b[38;5;124;43mLate\u001b[39;49m\u001b[38;5;124;43m\"\u001b[39;49m\u001b[43m]\u001b[49m\u001b[43m)\u001b[49m\n\u001b[1;32m      2\u001b[0m word_count_summary_case(\u001b[38;5;124m\"\u001b[39m\u001b[38;5;124mCS5901_topic_1/resources/pride-and-prejudice.txt\u001b[39m\u001b[38;5;124m\"\u001b[39m, \u001b[38;5;124m\"\u001b[39m\u001b[38;5;124mthe\u001b[39m\u001b[38;5;124m\"\u001b[39m) \n",
      "Cell \u001b[0;32mIn[4], line 8\u001b[0m, in \u001b[0;36mword_count_summary_case\u001b[0;34m(file_path, search_terms)\u001b[0m\n\u001b[1;32m      5\u001b[0m input_checks(file_path, search_terms)\n\u001b[1;32m      7\u001b[0m \u001b[38;5;66;03m# Open the file, read its contents, and convert to lower\u001b[39;00m\n\u001b[0;32m----> 8\u001b[0m \u001b[38;5;28;01mwith\u001b[39;00m \u001b[38;5;28;43mopen\u001b[39;49m\u001b[43m(\u001b[49m\u001b[43mfile_path\u001b[49m\u001b[43m,\u001b[49m\u001b[43m \u001b[49m\u001b[38;5;124;43m\"\u001b[39;49m\u001b[38;5;124;43mr\u001b[39;49m\u001b[38;5;124;43m\"\u001b[39;49m\u001b[43m)\u001b[49m \u001b[38;5;28;01mas\u001b[39;00m file:\n\u001b[1;32m      9\u001b[0m     text \u001b[38;5;241m=\u001b[39m file\u001b[38;5;241m.\u001b[39mread()\n\u001b[1;32m     11\u001b[0m \u001b[38;5;66;03m# Find all words, and store as a list\u001b[39;00m\n",
      "File \u001b[0;32m/opt/conda/lib/python3.11/site-packages/IPython/core/interactiveshell.py:324\u001b[0m, in \u001b[0;36m_modified_open\u001b[0;34m(file, *args, **kwargs)\u001b[0m\n\u001b[1;32m    317\u001b[0m \u001b[38;5;28;01mif\u001b[39;00m file \u001b[38;5;129;01min\u001b[39;00m {\u001b[38;5;241m0\u001b[39m, \u001b[38;5;241m1\u001b[39m, \u001b[38;5;241m2\u001b[39m}:\n\u001b[1;32m    318\u001b[0m     \u001b[38;5;28;01mraise\u001b[39;00m \u001b[38;5;167;01mValueError\u001b[39;00m(\n\u001b[1;32m    319\u001b[0m         \u001b[38;5;124mf\u001b[39m\u001b[38;5;124m\"\u001b[39m\u001b[38;5;124mIPython won\u001b[39m\u001b[38;5;124m'\u001b[39m\u001b[38;5;124mt let you open fd=\u001b[39m\u001b[38;5;132;01m{\u001b[39;00mfile\u001b[38;5;132;01m}\u001b[39;00m\u001b[38;5;124m by default \u001b[39m\u001b[38;5;124m\"\u001b[39m\n\u001b[1;32m    320\u001b[0m         \u001b[38;5;124m\"\u001b[39m\u001b[38;5;124mas it is likely to crash IPython. If you know what you are doing, \u001b[39m\u001b[38;5;124m\"\u001b[39m\n\u001b[1;32m    321\u001b[0m         \u001b[38;5;124m\"\u001b[39m\u001b[38;5;124myou can use builtins\u001b[39m\u001b[38;5;124m'\u001b[39m\u001b[38;5;124m open.\u001b[39m\u001b[38;5;124m\"\u001b[39m\n\u001b[1;32m    322\u001b[0m     )\n\u001b[0;32m--> 324\u001b[0m \u001b[38;5;28;01mreturn\u001b[39;00m \u001b[43mio_open\u001b[49m\u001b[43m(\u001b[49m\u001b[43mfile\u001b[49m\u001b[43m,\u001b[49m\u001b[43m \u001b[49m\u001b[38;5;241;43m*\u001b[39;49m\u001b[43margs\u001b[49m\u001b[43m,\u001b[49m\u001b[43m \u001b[49m\u001b[38;5;241;43m*\u001b[39;49m\u001b[38;5;241;43m*\u001b[39;49m\u001b[43mkwargs\u001b[49m\u001b[43m)\u001b[49m\n",
      "\u001b[0;31mFileNotFoundError\u001b[0m: [Errno 2] No such file or directory: 'CS5901_topic_1/resources/pride-and-prejudice.txt'"
     ]
    }
   ],
   "source": [
    "word_count_summary_case(\"CS5901_topic_1/resources/pride-and-prejudice.txt\", [\"Jane\", \"Elizabeth\", \"Mary\", \"Late\"])\n",
    "word_count_summary_case(\"CS5901_topic_1/resources/pride-and-prejudice.txt\", \"the\") "
   ]
  },
  {
   "cell_type": "code",
   "execution_count": null,
   "id": "6994c434-79a8-4e8c-b97f-8fa33fe04417",
   "metadata": {
    "execution": {
     "iopub.status.busy": "2025-02-03T15:41:53.353816Z",
     "iopub.status.idle": "2025-02-03T15:41:53.354114Z",
     "shell.execute_reply": "2025-02-03T15:41:53.353977Z",
     "shell.execute_reply.started": "2025-02-03T15:41:53.353961Z"
    }
   },
   "outputs": [],
   "source": [
    "word_count_summary_case(\"resources/a-tale-of-two-cities.txt\", [\"London\", \"Paris\"])"
   ]
  },
  {
   "cell_type": "code",
   "execution_count": null,
   "id": "f6730f2f-cb66-4b86-8d29-5518faf47262",
   "metadata": {},
   "outputs": [],
   "source": []
  },
  {
   "cell_type": "code",
   "execution_count": null,
   "id": "513c08e7-eeb4-43be-a842-bdd968cfc1b0",
   "metadata": {},
   "outputs": [],
   "source": []
  }
 ],
 "metadata": {
  "kernelspec": {
   "display_name": "Python 3 (ipykernel)",
   "language": "python",
   "name": "python3"
  },
  "language_info": {
   "codemirror_mode": {
    "name": "ipython",
    "version": 3
   },
   "file_extension": ".py",
   "mimetype": "text/x-python",
   "name": "python",
   "nbconvert_exporter": "python",
   "pygments_lexer": "ipython3",
   "version": "3.13.2"
  }
 },
 "nbformat": 4,
 "nbformat_minor": 5
}
