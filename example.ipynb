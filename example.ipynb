{
 "cells": [
  {
   "cell_type": "markdown",
   "id": "d054a9af-2e00-42b6-b679-fc4f6e7d5d6a",
   "metadata": {},
   "source": [
    "## Header"
   ]
  },
  {
   "cell_type": "code",
   "execution_count": null,
   "id": "5cd11f8c-65c1-4f96-a4e6-8b8ceee5d3f2",
   "metadata": {},
   "outputs": [],
   "source": [
    "print(\"Hello everyone\")"
   ]
  },
  {
   "cell_type": "code",
   "execution_count": null,
   "id": "1e6f3d62-56ea-4587-a1f2-58cf9ad73541",
   "metadata": {},
   "outputs": [],
   "source": [
    "print([1, 4, 7, 9])"
   ]
  }
 ],
 "metadata": {
  "kernelspec": {
   "display_name": "Python 3 (ipykernel)",
   "language": "python",
   "name": "python3"
  },
  "language_info": {
   "codemirror_mode": {
    "name": "ipython",
    "version": 3
   },
   "file_extension": ".py",
   "mimetype": "text/x-python",
   "name": "python",
   "nbconvert_exporter": "python",
   "pygments_lexer": "ipython3",
   "version": "3.13.2"
  }
 },
 "nbformat": 4,
 "nbformat_minor": 5
}
